{
 "cells": [
  {
   "cell_type": "markdown",
   "id": "dcfcaada",
   "metadata": {},
   "source": [
    "Helpful resources:\n",
    "- [Dirichlet Distribution](https://builtin.com/data-science/dirichlet-distribution)"
   ]
  },
  {
   "cell_type": "markdown",
   "id": "ffe0265f",
   "metadata": {
    "slideshow": {
     "slide_type": "slide"
    }
   },
   "source": [
    "# Most Basic Bayesian Interview Question\n",
    "\n",
    "---\n",
    "\n",
    "Are you familiar with Bayesian inference?\n",
    "\n",
    "> Yes!\n",
    "\n",
    "Well then you must know **the law of total probability**! What's that?\n",
    "\n",
    "> What proportion of students will pass this class $\\Pr(pass)$ if you know $\\Pr(pass|quick)$ as well as the distribution of $quick$?\n",
    "\n",
    "Now what proportion of students who will pass the class answer this question quickly?\n",
    "\n",
    "> The structure of this question is **_the most basic Bayesian interview question_**, but it requires some assumptions..."
   ]
  },
  {
   "cell_type": "markdown",
   "id": "ce983413",
   "metadata": {
    "slideshow": {
     "slide_type": "slide"
    }
   },
   "source": [
    "# Bayesian Terminology \n",
    "---\n",
    "\n",
    "## Bayes Theorem\n",
    "\n",
    "\\begin{align*}\n",
    "\\overset{posterior}{p(\\theta|x)} &={} \\frac{\\overset{likelihood}{p(x|\\theta)}\\times \\overset{prior}{p(\\theta)}}{\\overset{\\text{evidence}}{p(x)}}\\\\\n",
    "&={} \\frac{{p(x, \\theta)}}{\\underset{\\text{marginal likelihood}}{\\displaystyle \\int p(x|\\theta)p(\\theta) d\\theta}} \\textrm{ or }\n",
    "\\frac{{p(x, \\theta)}}{\\underset{\\text{law of total probability}}{\\displaystyle \\sum_{k} p(x|\\theta_k)p(\\theta_k)}} =\n",
    "\\frac{\\overset{joint}{p(x, \\theta)}}{\\underset{\\text{normalizing constant}}{c}}\n",
    "\\end{align*}\n",
    "\n",
    "### _The posterior is always proportional to the joint_\n",
    "\n",
    "\\begin{align*}\n",
    "\\large p(\\theta | x) = (1/c) \\times p(\\theta, x) \\propto{} p(\\theta, x) \\\\ \\\\\n",
    "\\large \\because \\; p(\\theta, x) = p(\\theta \\text{ AND } x) = p(\\theta \\cap x) = p(x|\\theta) p(\\theta) \\\\ \\\\\n",
    "\\large \\therefore \\; p(\\theta | x) = \\frac{p(x|\\theta) p(\\theta)}{c} \\propto{} p(x|\\theta) p(\\theta) \n",
    "\\end{align*}\n",
    "\n",
    "**_and the posterior is always a proper distribution if the prior is_**"
   ]
  },
  {
   "cell_type": "markdown",
   "id": "559b2966",
   "metadata": {},
   "source": [
    "# Example\n",
    "---\n",
    "\n",
    "\\begin{align*}\n",
    "\\displaystyle \\text{Likelihood} \\qquad p(x|\\theta, n) & = C^n_k \\theta^x (1-\\theta)^{n-x} \\\\\n",
    "& \\quad [\\text{exponential family distribution if $n$ is known}] \\\\\n",
    "& \\quad [\\text{What is this distribution? What is $C^n_k$?}] \\\\\n",
    "& \\quad \\text{This is the \\textbf{Binomial} distribution.} \\\\\n",
    "& \\quad \\text{$C^n_k$ is read as ``n choose k\" and is equal to $\\frac{n!}{r!(n-r)!}$} \\\\ \\\\ \\\\\n",
    "\n",
    "\\displaystyle \\text{Prior} \\qquad p(\\theta|\\alpha, \\beta) & = \\frac{\\Gamma(\\alpha+\\beta)}{\\Gamma(\\alpha) \\Gamma(\\beta)} \\theta^{\\alpha-1} (1-\\theta)^{\\beta-1} \\\\\n",
    "& \\quad [\\text{$\\alpha$ and $\\beta$ are called }\\textbf{hyperparameters}] \\\\\n",
    "& \\quad [\\text{What is this distribution? What is $\\Gamma(\\cdot)$?}] \\\\\n",
    "& \\quad \\text{This is the \\textbf{Beta} distribution.} \\\\\n",
    "& \\quad \\text{$\\Gamma(\\cdot)$ is the gamma function and $\\Gamma(n) = (n-1)!$} \\\\ \\\\ \\\\\n",
    "\n",
    "\\displaystyle \\text{Posterior} \\qquad \\quad p(\\theta|x, n, \\alpha, \\beta) & = \\overset{\\text{Bayes' Theorem}}{\\frac{p(x|\\theta) p(\\theta)}{p(x)}} = \\frac{C^n_k \\theta^x (1-\\theta)^{n-x} \\frac{\\Gamma(\\alpha + \\beta)}{\\Gamma(\\alpha)\\Gamma(\\beta)} \\theta^{\\alpha-1} (1-\\theta)^{\\beta-1}}{p(x)} \\\\ \\\\\n",
    "& \\quad = \\texttt{What is the distribution parameterized by $\\alpha$ and $\\beta$?}\n",
    "\\end{align*}\n"
   ]
  },
  {
   "cell_type": "markdown",
   "id": "dc21fdf8",
   "metadata": {},
   "source": [
    "# Homework\n",
    "\n",
    "---"
   ]
  },
  {
   "cell_type": "markdown",
   "id": "265500e5",
   "metadata": {
    "slideshow": {
     "slide_type": "slide"
    }
   },
   "source": [
    "**Q1:** What proportion of students who answer this question quickly will pass the class?\n",
    "Assume the probability of passing the class is 0.9.\n",
    "Assume the probability of answering this question quickly is 0.6 if you'll pass the class,\n",
    "while the probability drops to 0.3 if you'll not pass the class. "
   ]
  },
  {
   "cell_type": "markdown",
   "id": "935eb740",
   "metadata": {},
   "source": [
    "**Solution:**\n",
    "\n",
    "Some notation first:\n",
    "\n",
    "- $\\text{Pr(pass) = Probability of students passing the class} = 0.9$\n",
    "- $\\text{Pr(fail) = Probability of students failing the class} = 1 - 0.9 = 0.1$\n",
    "- $\\text{Pr(quick) = Probability of students answering this question quickly}$\n",
    "- $\\text{Pr(pass|quick) = Probability of students passing the class given they answered this question quickly}$\n",
    "- $\\text{Pr(quick|pass) = Probability of students answering this question quickly given they passed the class} = 0.6$\n",
    "- $\\text{Pr(quick|fail) = Probability of students answering this question quickly given they failed the class} = 0.3$\n",
    "\n",
    "We need to find what proportion of students who answer this question quickly will pass the class, ie, $\\text{Pr(pass|quick)}$.\n",
    "\n",
    "By law of total probability, we have:\n",
    "\n",
    "\\begin{align*}\n",
    "\\text{Pr(quick)} \\; & = \\; \\text{Pr(quick|pass) $\\times$ Pr(pass) \\; + \\; Pr(quick|fail) $\\times$ Pr(fail)} \\\\\n",
    "& = \\; 0.6 \\times 0.9 \\; + \\; 0.3 \\times 0.1 \\;\\; = \\;\\; 0.54 + 0.03\\\\\n",
    "& = \\; 0.57 \\\\\n",
    "\\end{align*}\n",
    "\n",
    "By Bayes theorem, we have:\n",
    "\n",
    "\\begin{align*}\n",
    "\\text{Pr(pass|quick)} \\; & = \\; \\frac{\\text{Pr(quick|pass)} \\times \\text{Pr(pass)}}{\\text{Pr(quick)}} \\\\\n",
    "& = \\; \\frac{0.6 \\times 0.9}{0.57} \\\\\n",
    "& = \\; \\frac{18}{19} \\; = \\; \\boxed{\\mathbf{0.947}} \\\\\n",
    "\\end{align*}"
   ]
  },
  {
   "cell_type": "markdown",
   "id": "d08a851f",
   "metadata": {},
   "source": [
    "**Q2:**\n",
    "\\begin{align*}\n",
    "\\text{Likelihood} && p(x|\\theta,n) &={} \\texttt{Multinomial} \\\\ \\\\\n",
    "\\text{Prior} && p(\\theta|\\boldsymbol{\\alpha}) &={} \\texttt{Dirichlet} \\\\ \\\\ \n",
    "\\text{Posterior} && p(\\theta|x,n,\\boldsymbol{\\alpha}) &={} \\overset{\\text{Bayes Theorem}}{\\frac{p(x|\\theta)p(\\theta)}{p(x)}} = \\; \\texttt{What?}\\\\\n",
    "&&& \\quad\\quad\\quad\\quad\\quad\\; = \\; \\texttt{What distribution?}\\\\\n",
    "&&& \\quad\\quad\\quad\\quad\\quad\\quad\\;\\;\\, \\texttt{With what parameterization?}\\\\\n",
    "\\end{align*}\n",
    "\n",
    "*The posterior is always proportional to the joint*\n",
    "\n",
    "\\begin{align*}\n",
    "p(\\theta | x) & = (1/c) \\times p(\\theta,x) \\propto{} p(\\theta,x) \\\\ \\\\\n",
    "\\therefore \\; p(\\theta | x) & \\propto{} p(x|\\theta) p(\\theta)\n",
    "\\end{align*}\n",
    "\n",
    "**_and the posterior is always a proper distribution if the prior is_**"
   ]
  },
  {
   "cell_type": "markdown",
   "id": "b264649a",
   "metadata": {},
   "source": [
    "**Solution:**\n",
    "\n",
    "Let's first mathematically express the likelihood and the prior:\n",
    "\n",
    "\\begin{align*}\n",
    "\\text{Likelihood} && p(x|\\theta, n) & = \\frac{n!}{x_1!x_2!\\ldots x_k!} \\prod_{i=1}^{k} \\theta_i^{x_i} \\\\ \\\\\n",
    "\\text{Prior} && p(\\theta|\\boldsymbol{\\alpha}) & = \\frac{\\Gamma(\\sum_{i=1}^{k} \\alpha_i)}{\\prod_{i=1}^{k} \\Gamma(\\alpha_i)} \\prod_{i=1}^{k} \\theta_i^{\\alpha_i-1} \\\\\n",
    "\\end{align*}\n",
    "\n",
    "where: \n",
    "- $k$ is the number of classes, \n",
    "- $n$ is the number of trials, \n",
    "- $\\boldsymbol{\\alpha}$ is the vector of hyperparameters, ie, $\\boldsymbol{\\alpha} = (\\alpha_1, \\alpha_2, \\ldots, \\alpha_k)$,\n",
    "\n",
    "By Bayes theorem, we have:\n",
    "\n",
    "\\begin{align*}\n",
    "p(\\theta | x, n, \\boldsymbol{\\alpha}) & \\; = \\; \\frac{p(x|\\theta, n) \\times p(\\theta, \\boldsymbol{\\alpha})}{p(x)} \\\\ \\\\\n",
    "p(\\theta | x, n, \\boldsymbol{\\alpha}) & \\; \\propto{} \\; p(x|\\theta, n) \\times p(\\theta, \\boldsymbol{\\alpha}) \\\\ \\\\\n",
    "p(x|\\theta, n) \\times p(\\theta, \\boldsymbol{\\alpha}) & \\; = \\; \\frac{n!}{x_1!x_2!\\ldots x_k!} \\prod_{i=1}^{k} \\theta_i^{x_i} \\;\\; \\times \\;\\; \\frac{\\Gamma(\\sum_{i=1}^{k} \\alpha_i)}{\\prod_{i=1}^{k} \\Gamma(\\alpha_i)} \\prod_{i=1}^{k} \\theta_i^{\\alpha_i-1} \\\\ \\\\\n",
    "\\text{Let } \\; \\varepsilon & \\; = \\; \\frac{n!}{x_1!x_2!\\ldots x_k!} \\times \\frac{\\Gamma(\\sum_{i=1}^{k} \\alpha_i)}{\\prod_{i=1}^{k} \\Gamma(\\alpha_i)} \\\\ \\\\ \n",
    "\\text{So, } \\; p(x|\\theta, n) \\times p(\\theta, \\boldsymbol{\\alpha}) & \\; = \\; \\varepsilon \\times \\prod_{i=1}^{k} \\theta_i^{x_i} \\times \\prod_{i=1}^{k} \\theta_i^{\\alpha_i-1} \\\\ \\\\ \n",
    "p(x|\\theta, n) \\times p(\\theta, \\boldsymbol{\\alpha}) & \\; = \\; \\varepsilon \\times \\prod_{i=1}^{k} \\theta_i^{x_i + \\alpha_i - 1} \\\\ \\\\\n",
    "\\therefore \\;\\; p(\\theta | x, n, \\boldsymbol{\\alpha}) & \\; \\propto{} \\; \\varepsilon \\times \\prod_{i=1}^{k} \\theta_i^{x_i + \\alpha_i - 1} \\\\ \\\\\n",
    "\\text{Since } \\varepsilon \\text{ does not depend on } & \\theta, \\text{ we can safely remove it}: \\\\ \\\\\n",
    "p(\\theta | x, n, \\boldsymbol{\\alpha}) & \\; \\propto{} \\; \\prod_{i=1}^{k} \\theta_i^{x_i + \\alpha_i - 1} \\\\\n",
    "\\end{align*}\n",
    "\n",
    "The expression for the posterior resembles the functional form of the Dirichlet distribution, which is:\n",
    "\n",
    "\\begin{align*}\n",
    "\\text{Dirichlet} & = \\overset{\\text{constant}}{\\boxed{\\frac{\\Gamma(\\sum_{i=1}^{k} \\alpha_i)}{\\prod_{i=1}^{k} \\Gamma(\\alpha_i)}}} \\, \\prod_{i=1}^{k} \\theta_i^{\\alpha_i-1} \\\\\n",
    "\\text{So, Dirichlet} & \\propto{} \\prod_{i=1}^{k} \\theta_i^{\\alpha_i-1} \\\\ \n",
    "\\end{align*}\n",
    "\n",
    "Thus, the posterior distribution is a Dirichlet distribution parameterized by $\\boldsymbol{\\phi} = \\boldsymbol{x + \\alpha} = (x_1 + \\alpha_1, \\; x_2 + \\alpha_2, \\; \\ldots, \\; x_k + \\alpha_k)$, ie,\n",
    "\n",
    "$$p(\\theta | x, n, \\boldsymbol{\\alpha}) = \\texttt{Dirichlet}(\\boldsymbol{\\phi})$$"
   ]
  },
  {
   "cell_type": "markdown",
   "id": "557eaf49",
   "metadata": {},
   "source": [
    "**Q3:** Create a sample from a three category multinomial distribution and visualize the multinomial distribution and the multinomial sample; then, visualize the simplex Dirichlet distribution of the prior and the posterior using a ternary plot.\n",
    "\n"
   ]
  },
  {
   "cell_type": "code",
   "execution_count": 11,
   "id": "c885e7fa",
   "metadata": {},
   "outputs": [],
   "source": [
    "# Necessary imports\n",
    "from scipy.stats import multinomial\n",
    "import matplotlib.pyplot as plt"
   ]
  },
  {
   "cell_type": "markdown",
   "id": "5c3fea11",
   "metadata": {},
   "source": [
    "**Solution:**\n",
    "\n",
    "There are 2 parts to tackle in this question:\n",
    "1. Generate a sample from a three-category multinomial distribution and visualize the multinomial distribution and the multinomial sample.\n",
    "2. Visualize the simplex Dirichlet distribution of the prior and the posterior using a ternary plot."
   ]
  },
  {
   "cell_type": "markdown",
   "id": "18d3a074",
   "metadata": {},
   "source": [
    "Let's solve the first part:\n",
    "\n",
    "First we define the functional form of the three-category multinomial distribution:\n",
    "\n",
    "$$p(x|\\theta, n) = \\frac{n!}{x_1! x_2! x_3!} \\prod_{i=1}^{3} \\theta_i^{x_i}$$\n",
    "\n",
    "Now we define the parameters of the three-category multinomial distribution:\n",
    "\n",
    "- $n = \\text{ number of trials } = 100$\n",
    "- $\\theta = \\text{ probability vector of the three categories } = (0.2, 0.5, 0.3)$\n",
    "    - $\\theta_1 = \\text{ probability of category 1 } = 0.2$\n",
    "    - $\\theta_2 = \\text{ probability of category 2 } = 0.5$\n",
    "    - $\\theta_3 = \\text{ probability of category 3 } = 0.3$\n",
    "\n",
    "Now, we generate a sample from the three-category multinomial distribution:"
   ]
  },
  {
   "cell_type": "code",
   "execution_count": 22,
   "id": "33cab32e",
   "metadata": {},
   "outputs": [
    {
     "name": "stdout",
     "output_type": "stream",
     "text": [
      "Multinomial Sample: [19 45 36]\n"
     ]
    }
   ],
   "source": [
    "# Define parameters for the Multinomial distribution\n",
    "n = 100                  # number of trials\n",
    "theta = [0.2, 0.5, 0.3]  # probability vector of the 3 categories\n",
    "\n",
    "# Generate a sample from the 3-category Multinomial distribution\n",
    "multi_sample = multinomial.rvs(n=n, p=theta, size=1).flatten()\n",
    "\n",
    "# Display the result\n",
    "print(\"Multinomial Sample:\", multi_sample)"
   ]
  },
  {
   "cell_type": "markdown",
   "id": "7e6c5169",
   "metadata": {},
   "source": [
    "Having generated the multinomial sample, we transform it into probabilities (or frequencies) by dividing it by the total number of trials, ie, 100."
   ]
  },
  {
   "cell_type": "code",
   "execution_count": 23,
   "id": "af2f6abf",
   "metadata": {},
   "outputs": [
    {
     "name": "stdout",
     "output_type": "stream",
     "text": [
      "[0.19, 0.45, 0.36]\n"
     ]
    }
   ],
   "source": [
    "# Calculate sample frequencies\n",
    "sample_frequencies = [count / n for count in multi_sample]\n",
    "print(sample_frequencies)"
   ]
  },
  {
   "cell_type": "markdown",
   "id": "11ae358f",
   "metadata": {},
   "source": [
    "Now, we plot the true probabilities (`theta`) and the multinomial sample (`sample_frequencies`):"
   ]
  },
  {
   "cell_type": "code",
   "execution_count": 24,
   "id": "df1d9197",
   "metadata": {},
   "outputs": [
    {
     "data": {
      "image/png": "[encoded data removed]",
      "text/plain": [
       "<Figure size 800x600 with 1 Axes>"
      ]
     },
     "metadata": {},
     "output_type": "display_data"
    }
   ],
   "source": [
    "categories = ['Category 1', 'Category 2', 'Category 3']\n",
    "\n",
    "# Create bar chart\n",
    "plt.figure(figsize=(8, 6))\n",
    "plt.bar(categories, theta, alpha=0.7, label='theta', width=0.4, align='center')\n",
    "plt.bar(categories, sample_frequencies, alpha=0.7, label='sample_frequencies', width=0.4, align='edge')\n",
    "plt.suptitle(\"Visualization of Multinoimal Distribution\")\n",
    "plt.title('True Probabilities (theta) vs. Sample Frequencies (sample_frequencies)')\n",
    "plt.ylabel('Probability')\n",
    "plt.legend()\n",
    "plt.show()"
   ]
  },
  {
   "cell_type": "markdown",
   "id": "6a092955",
   "metadata": {},
   "source": [
    "Let's now solve the second part:"
   ]
  },
  {
   "cell_type": "code",
   "execution_count": null,
   "id": "2c979504",
   "metadata": {},
   "outputs": [],
   "source": []
  },
  {
   "cell_type": "code",
   "execution_count": null,
   "id": "f7d3de0d",
   "metadata": {},
   "outputs": [],
   "source": []
  },
  {
   "cell_type": "code",
   "execution_count": null,
   "id": "209adb92",
   "metadata": {},
   "outputs": [],
   "source": []
  },
  {
   "cell_type": "code",
   "execution_count": null,
   "id": "a95cfe4d",
   "metadata": {},
   "outputs": [],
   "source": []
  },
  {
   "cell_type": "code",
   "execution_count": 2,
   "id": "197c9d4c",
   "metadata": {},
   "outputs": [],
   "source": [
    "bin_10_p3 = stats.binom(n=10, p=.3)"
   ]
  },
  {
   "cell_type": "code",
   "execution_count": 3,
   "id": "dad74a8a",
   "metadata": {},
   "outputs": [
    {
     "data": {
      "text/plain": [
       "<BarContainer object of 2 artists>"
      ]
     },
     "execution_count": 3,
     "metadata": {},
     "output_type": "execute_result"
    },
    {
     "data": {
      "image/png": "[encoded data removed]",
      "text/plain": [
       "<Figure size 640x480 with 1 Axes>"
      ]
     },
     "metadata": {},
     "output_type": "display_data"
    }
   ],
   "source": [
    "plt.bar(height=[.3,.7], x=[1,0])"
   ]
  },
  {
   "cell_type": "code",
   "execution_count": 4,
   "id": "84f86608",
   "metadata": {},
   "outputs": [],
   "source": [
    "x = bin_10_p3.rvs(size=100)"
   ]
  },
  {
   "cell_type": "code",
   "execution_count": 5,
   "id": "47fe5372",
   "metadata": {},
   "outputs": [
    {
     "data": {
      "text/plain": [
       "(array([ 4., 15., 20.,  0., 25., 26.,  0.,  6.,  3.,  1.]),\n",
       " array([0. , 0.7, 1.4, 2.1, 2.8, 3.5, 4.2, 4.9, 5.6, 6.3, 7. ]),\n",
       " <BarContainer object of 10 artists>)"
      ]
     },
     "execution_count": 5,
     "metadata": {},
     "output_type": "execute_result"
    },
    {
     "data": {
      "image/png": "[encoded data removed]",
      "text/plain": [
       "<Figure size 640x480 with 1 Axes>"
      ]
     },
     "metadata": {},
     "output_type": "display_data"
    }
   ],
   "source": [
    "plt.hist(x)"
   ]
  },
  {
   "cell_type": "code",
   "execution_count": null,
   "id": "4b826ded",
   "metadata": {},
   "outputs": [],
   "source": []
  },
  {
   "cell_type": "code",
   "execution_count": null,
   "id": "67a94651",
   "metadata": {},
   "outputs": [],
   "source": [
    "# https://q.utoronto.ca/courses/380376/discussion_topics/2919455\n",
    "\n",
    "import numpy as np\n",
    "from scipy import stats\n",
    "import plotly.figure_factory as ff\n",
    "import numpy as np\n",
    "\n",
    "# p1p2p3_scatter = stats.dirichlet(alpha=np.array([1.0, 1.0, 1.0])).rvs(size=100)\n",
    "p1 = np.linspace(0,1,100)\n",
    "p2 = 1-p1.copy()\n",
    "p_ = np.linspace(0,1,100)\n",
    "p1 = (p1[np.newaxis,:]*p_[:,np.newaxis]).flatten()\n",
    "p2 = (p2[np.newaxis,:]*p_[:,np.newaxis]).flatten()\n",
    "p3 = 1-p1-p2\n",
    "p = np.c_[p1,p2,p3]\n",
    "\n",
    "alpha_prior = np.array([1.1, 1.1, 1.1])  # Prior alpha values\n",
    "dirichlet_prior = stats.dirichlet(alpha=alpha_prior)\n",
    "dirichlet_prior_densities = dirichlet_prior.pdf(p.T)\n",
    "\n",
    "# https://plotly.com/python/ternary-contour/Links to an external site. \n",
    "fig = ff.create_ternary_contour(p.T, dirichlet_prior.pdf(p.T),\n",
    "                                pole_labels=['p1', 'p2', 'p3'],\n",
    "                                interp_mode='cartesian',\n",
    "                                showscale=True)\n",
    "fig.show('png')"
   ]
  },
  {
   "cell_type": "code",
   "execution_count": null,
   "id": "898f1320",
   "metadata": {},
   "outputs": [],
   "source": []
  }
 ],
 "metadata": {
  "celltoolbar": "Slideshow",
  "kernelspec": {
   "display_name": "base",
   "language": "python",
   "name": "python3"
  },
  "language_info": {
   "codemirror_mode": {
    "name": "ipython",
    "version": 3
   },
   "file_extension": ".py",
   "mimetype": "text/x-python",
   "name": "python",
   "nbconvert_exporter": "python",
   "pygments_lexer": "ipython3",
   "version": "3.9.12"
  }
 },
 "nbformat": 4,
 "nbformat_minor": 5
}
